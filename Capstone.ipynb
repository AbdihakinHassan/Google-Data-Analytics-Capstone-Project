{
 "cells": [
  {
   "attachments": {},
   "cell_type": "markdown",
   "metadata": {},
   "source": [
    "## 🚴 Business Task: Ways  that Casuals Differ from Annual members, so that the marketing team lead by Moreno use those ways to reach casuals to opt for anual membership. "
   ]
  },
  {
   "cell_type": "code",
   "execution_count": 35,
   "metadata": {},
   "outputs": [
    {
     "data": {
      "text/html": [
       "<div>\n",
       "<style scoped>\n",
       "    .dataframe tbody tr th:only-of-type {\n",
       "        vertical-align: middle;\n",
       "    }\n",
       "\n",
       "    .dataframe tbody tr th {\n",
       "        vertical-align: top;\n",
       "    }\n",
       "\n",
       "    .dataframe thead th {\n",
       "        text-align: right;\n",
       "    }\n",
       "</style>\n",
       "<table border=\"1\" class=\"dataframe\">\n",
       "  <thead>\n",
       "    <tr style=\"text-align: right;\">\n",
       "      <th></th>\n",
       "      <th>ride_id</th>\n",
       "      <th>rideable_type</th>\n",
       "      <th>started_at</th>\n",
       "      <th>ended_at</th>\n",
       "      <th>start_station_name</th>\n",
       "      <th>start_station_id</th>\n",
       "      <th>end_station_name</th>\n",
       "      <th>end_station_id</th>\n",
       "      <th>start_lat</th>\n",
       "      <th>start_lng</th>\n",
       "      <th>end_lat</th>\n",
       "      <th>end_lng</th>\n",
       "      <th>member_casual</th>\n",
       "    </tr>\n",
       "  </thead>\n",
       "  <tbody>\n",
       "    <tr>\n",
       "      <th>0</th>\n",
       "      <td>9DC7B962304CBFD8</td>\n",
       "      <td>electric_bike</td>\n",
       "      <td>2021-09-28 16:07:10</td>\n",
       "      <td>2021-09-28 16:09:54</td>\n",
       "      <td>NaN</td>\n",
       "      <td>NaN</td>\n",
       "      <td>NaN</td>\n",
       "      <td>NaN</td>\n",
       "      <td>41.890000</td>\n",
       "      <td>-87.680000</td>\n",
       "      <td>41.89000</td>\n",
       "      <td>-87.670000</td>\n",
       "      <td>casual</td>\n",
       "    </tr>\n",
       "    <tr>\n",
       "      <th>1</th>\n",
       "      <td>F930E2C6872D6B32</td>\n",
       "      <td>electric_bike</td>\n",
       "      <td>2021-09-28 14:24:51</td>\n",
       "      <td>2021-09-28 14:40:05</td>\n",
       "      <td>NaN</td>\n",
       "      <td>NaN</td>\n",
       "      <td>NaN</td>\n",
       "      <td>NaN</td>\n",
       "      <td>41.940000</td>\n",
       "      <td>-87.640000</td>\n",
       "      <td>41.98000</td>\n",
       "      <td>-87.670000</td>\n",
       "      <td>casual</td>\n",
       "    </tr>\n",
       "    <tr>\n",
       "      <th>2</th>\n",
       "      <td>6EF72137900BB910</td>\n",
       "      <td>electric_bike</td>\n",
       "      <td>2021-09-28 00:20:16</td>\n",
       "      <td>2021-09-28 00:23:57</td>\n",
       "      <td>NaN</td>\n",
       "      <td>NaN</td>\n",
       "      <td>NaN</td>\n",
       "      <td>NaN</td>\n",
       "      <td>41.810000</td>\n",
       "      <td>-87.720000</td>\n",
       "      <td>41.80000</td>\n",
       "      <td>-87.720000</td>\n",
       "      <td>casual</td>\n",
       "    </tr>\n",
       "    <tr>\n",
       "      <th>3</th>\n",
       "      <td>78D1DE133B3DBF55</td>\n",
       "      <td>electric_bike</td>\n",
       "      <td>2021-09-28 14:51:17</td>\n",
       "      <td>2021-09-28 15:00:06</td>\n",
       "      <td>NaN</td>\n",
       "      <td>NaN</td>\n",
       "      <td>NaN</td>\n",
       "      <td>NaN</td>\n",
       "      <td>41.800000</td>\n",
       "      <td>-87.720000</td>\n",
       "      <td>41.81000</td>\n",
       "      <td>-87.720000</td>\n",
       "      <td>casual</td>\n",
       "    </tr>\n",
       "    <tr>\n",
       "      <th>4</th>\n",
       "      <td>E03D4ACDCAEF6E00</td>\n",
       "      <td>electric_bike</td>\n",
       "      <td>2021-09-28 09:53:12</td>\n",
       "      <td>2021-09-28 10:03:44</td>\n",
       "      <td>NaN</td>\n",
       "      <td>NaN</td>\n",
       "      <td>NaN</td>\n",
       "      <td>NaN</td>\n",
       "      <td>41.880000</td>\n",
       "      <td>-87.740000</td>\n",
       "      <td>41.88000</td>\n",
       "      <td>-87.710000</td>\n",
       "      <td>casual</td>\n",
       "    </tr>\n",
       "    <tr>\n",
       "      <th>...</th>\n",
       "      <td>...</td>\n",
       "      <td>...</td>\n",
       "      <td>...</td>\n",
       "      <td>...</td>\n",
       "      <td>...</td>\n",
       "      <td>...</td>\n",
       "      <td>...</td>\n",
       "      <td>...</td>\n",
       "      <td>...</td>\n",
       "      <td>...</td>\n",
       "      <td>...</td>\n",
       "      <td>...</td>\n",
       "      <td>...</td>\n",
       "    </tr>\n",
       "    <tr>\n",
       "      <th>5595058</th>\n",
       "      <td>EF56D7D1D612AC11</td>\n",
       "      <td>electric_bike</td>\n",
       "      <td>2021-05-20 16:32:14</td>\n",
       "      <td>2021-05-20 16:35:39</td>\n",
       "      <td>Blackstone Ave &amp; Hyde Park Blvd</td>\n",
       "      <td>13398</td>\n",
       "      <td>NaN</td>\n",
       "      <td>NaN</td>\n",
       "      <td>41.802581</td>\n",
       "      <td>-87.590230</td>\n",
       "      <td>41.80000</td>\n",
       "      <td>-87.600000</td>\n",
       "      <td>member</td>\n",
       "    </tr>\n",
       "    <tr>\n",
       "      <th>5595059</th>\n",
       "      <td>745191CB9F21DE3C</td>\n",
       "      <td>classic_bike</td>\n",
       "      <td>2021-05-29 16:40:37</td>\n",
       "      <td>2021-05-29 17:22:37</td>\n",
       "      <td>Sheridan Rd &amp; Montrose Ave</td>\n",
       "      <td>TA1307000107</td>\n",
       "      <td>Michigan Ave &amp; Oak St</td>\n",
       "      <td>13042</td>\n",
       "      <td>41.961670</td>\n",
       "      <td>-87.654640</td>\n",
       "      <td>41.90096</td>\n",
       "      <td>-87.623777</td>\n",
       "      <td>casual</td>\n",
       "    </tr>\n",
       "    <tr>\n",
       "      <th>5595060</th>\n",
       "      <td>428575BAA5356BFF</td>\n",
       "      <td>electric_bike</td>\n",
       "      <td>2021-05-31 14:24:54</td>\n",
       "      <td>2021-05-31 14:31:38</td>\n",
       "      <td>Sheridan Rd &amp; Montrose Ave</td>\n",
       "      <td>TA1307000107</td>\n",
       "      <td>NaN</td>\n",
       "      <td>NaN</td>\n",
       "      <td>41.961525</td>\n",
       "      <td>-87.654651</td>\n",
       "      <td>41.95000</td>\n",
       "      <td>-87.650000</td>\n",
       "      <td>member</td>\n",
       "    </tr>\n",
       "    <tr>\n",
       "      <th>5595061</th>\n",
       "      <td>FC8A4A7AB7249662</td>\n",
       "      <td>electric_bike</td>\n",
       "      <td>2021-05-25 16:01:33</td>\n",
       "      <td>2021-05-25 16:07:37</td>\n",
       "      <td>Sheridan Rd &amp; Montrose Ave</td>\n",
       "      <td>TA1307000107</td>\n",
       "      <td>NaN</td>\n",
       "      <td>NaN</td>\n",
       "      <td>41.961654</td>\n",
       "      <td>-87.654721</td>\n",
       "      <td>41.98000</td>\n",
       "      <td>-87.660000</td>\n",
       "      <td>member</td>\n",
       "    </tr>\n",
       "    <tr>\n",
       "      <th>5595062</th>\n",
       "      <td>E873B8AA3EE84678</td>\n",
       "      <td>docked_bike</td>\n",
       "      <td>2021-05-12 12:22:14</td>\n",
       "      <td>2021-05-12 12:30:27</td>\n",
       "      <td>Sheridan Rd &amp; Montrose Ave</td>\n",
       "      <td>TA1307000107</td>\n",
       "      <td>Clark St &amp; Grace St</td>\n",
       "      <td>TA1307000127</td>\n",
       "      <td>41.961670</td>\n",
       "      <td>-87.654640</td>\n",
       "      <td>41.95078</td>\n",
       "      <td>-87.659172</td>\n",
       "      <td>casual</td>\n",
       "    </tr>\n",
       "  </tbody>\n",
       "</table>\n",
       "<p>5595063 rows × 13 columns</p>\n",
       "</div>"
      ],
      "text/plain": [
       "                  ride_id  rideable_type           started_at  \\\n",
       "0        9DC7B962304CBFD8  electric_bike  2021-09-28 16:07:10   \n",
       "1        F930E2C6872D6B32  electric_bike  2021-09-28 14:24:51   \n",
       "2        6EF72137900BB910  electric_bike  2021-09-28 00:20:16   \n",
       "3        78D1DE133B3DBF55  electric_bike  2021-09-28 14:51:17   \n",
       "4        E03D4ACDCAEF6E00  electric_bike  2021-09-28 09:53:12   \n",
       "...                   ...            ...                  ...   \n",
       "5595058  EF56D7D1D612AC11  electric_bike  2021-05-20 16:32:14   \n",
       "5595059  745191CB9F21DE3C   classic_bike  2021-05-29 16:40:37   \n",
       "5595060  428575BAA5356BFF  electric_bike  2021-05-31 14:24:54   \n",
       "5595061  FC8A4A7AB7249662  electric_bike  2021-05-25 16:01:33   \n",
       "5595062  E873B8AA3EE84678    docked_bike  2021-05-12 12:22:14   \n",
       "\n",
       "                    ended_at               start_station_name  \\\n",
       "0        2021-09-28 16:09:54                              NaN   \n",
       "1        2021-09-28 14:40:05                              NaN   \n",
       "2        2021-09-28 00:23:57                              NaN   \n",
       "3        2021-09-28 15:00:06                              NaN   \n",
       "4        2021-09-28 10:03:44                              NaN   \n",
       "...                      ...                              ...   \n",
       "5595058  2021-05-20 16:35:39  Blackstone Ave & Hyde Park Blvd   \n",
       "5595059  2021-05-29 17:22:37       Sheridan Rd & Montrose Ave   \n",
       "5595060  2021-05-31 14:31:38       Sheridan Rd & Montrose Ave   \n",
       "5595061  2021-05-25 16:07:37       Sheridan Rd & Montrose Ave   \n",
       "5595062  2021-05-12 12:30:27       Sheridan Rd & Montrose Ave   \n",
       "\n",
       "        start_station_id       end_station_name end_station_id  start_lat  \\\n",
       "0                    NaN                    NaN            NaN  41.890000   \n",
       "1                    NaN                    NaN            NaN  41.940000   \n",
       "2                    NaN                    NaN            NaN  41.810000   \n",
       "3                    NaN                    NaN            NaN  41.800000   \n",
       "4                    NaN                    NaN            NaN  41.880000   \n",
       "...                  ...                    ...            ...        ...   \n",
       "5595058            13398                    NaN            NaN  41.802581   \n",
       "5595059     TA1307000107  Michigan Ave & Oak St          13042  41.961670   \n",
       "5595060     TA1307000107                    NaN            NaN  41.961525   \n",
       "5595061     TA1307000107                    NaN            NaN  41.961654   \n",
       "5595062     TA1307000107    Clark St & Grace St   TA1307000127  41.961670   \n",
       "\n",
       "         start_lng   end_lat    end_lng member_casual  \n",
       "0       -87.680000  41.89000 -87.670000        casual  \n",
       "1       -87.640000  41.98000 -87.670000        casual  \n",
       "2       -87.720000  41.80000 -87.720000        casual  \n",
       "3       -87.720000  41.81000 -87.720000        casual  \n",
       "4       -87.740000  41.88000 -87.710000        casual  \n",
       "...            ...       ...        ...           ...  \n",
       "5595058 -87.590230  41.80000 -87.600000        member  \n",
       "5595059 -87.654640  41.90096 -87.623777        casual  \n",
       "5595060 -87.654651  41.95000 -87.650000        member  \n",
       "5595061 -87.654721  41.98000 -87.660000        member  \n",
       "5595062 -87.654640  41.95078 -87.659172        casual  \n",
       "\n",
       "[5595063 rows x 13 columns]"
      ]
     },
     "execution_count": 35,
     "metadata": {},
     "output_type": "execute_result"
    }
   ],
   "source": [
    "import pandas as pd\n",
    "import os\n",
    "\n",
    "# Set the path of the folder containing the CSV files\n",
    "path = '/Users/abdihakin/Desktop/GoogleCapstone/data'\n",
    "\n",
    "# Create an empty list to store the DataFrames\n",
    "df_list = []\n",
    "\n",
    "# Loop through each file in the folder\n",
    "for file in os.listdir(path):\n",
    "    if file.endswith('.csv'):\n",
    "        # Read the CSV file into a DataFrame and append it to the list\n",
    "        df_list.append(pd.read_csv(os.path.join(path, file), low_memory=False))\n",
    "\n",
    "# Concatenate all DataFrames in the list into a single DataFrame\n",
    "df_sample= pd.concat(df_list, ignore_index=True)\n",
    "df_sample"
   ]
  },
  {
   "attachments": {},
   "cell_type": "markdown",
   "metadata": {},
   "source": [
    "# 🧹  CLEANING PROCESS"
   ]
  },
  {
   "attachments": {},
   "cell_type": "markdown",
   "metadata": {},
   "source": [
    "#### "
   ]
  },
  {
   "attachments": {},
   "cell_type": "markdown",
   "metadata": {},
   "source": [
    "Based on our analysis, we have identified the following cleaning tasks that need to be performed on the data:\n",
    "\n",
    "1.Convert columns started_at and ended_at to datetime format.\n",
    "\n",
    "2.Change the data type of member_casual and rideable_type columns to category.\n",
    "\n",
    "3.Drop rows with missing values.\n",
    "\n",
    "4.Remove duplicate rows.\n",
    "\n",
    "Performing these tasks will ensure that our data is in a clean and consistent format, which will make it easier to analyze and draw insights from. below function will do the above listed task.\n"
   ]
  },
  {
   "cell_type": "code",
   "execution_count": 36,
   "metadata": {},
   "outputs": [
    {
     "data": {
      "text/html": [
       "<div>\n",
       "<style scoped>\n",
       "    .dataframe tbody tr th:only-of-type {\n",
       "        vertical-align: middle;\n",
       "    }\n",
       "\n",
       "    .dataframe tbody tr th {\n",
       "        vertical-align: top;\n",
       "    }\n",
       "\n",
       "    .dataframe thead th {\n",
       "        text-align: right;\n",
       "    }\n",
       "</style>\n",
       "<table border=\"1\" class=\"dataframe\">\n",
       "  <thead>\n",
       "    <tr style=\"text-align: right;\">\n",
       "      <th></th>\n",
       "      <th>ride_id</th>\n",
       "      <th>rideable_type</th>\n",
       "      <th>hire_time_minutes</th>\n",
       "      <th>started_at</th>\n",
       "      <th>ended_at</th>\n",
       "      <th>start_station_name</th>\n",
       "      <th>start_station_id</th>\n",
       "      <th>end_station_name</th>\n",
       "      <th>end_station_id</th>\n",
       "      <th>start_lat</th>\n",
       "      <th>start_lng</th>\n",
       "      <th>end_lat</th>\n",
       "      <th>end_lng</th>\n",
       "      <th>member_casual</th>\n",
       "      <th>delta</th>\n",
       "      <th>day_of_week</th>\n",
       "      <th>month_of_year</th>\n",
       "    </tr>\n",
       "  </thead>\n",
       "  <tbody>\n",
       "    <tr>\n",
       "      <th>59</th>\n",
       "      <td>E92C804563F261EC</td>\n",
       "      <td>classic_bike</td>\n",
       "      <td>10.63</td>\n",
       "      <td>2021-09-05 01:25:08</td>\n",
       "      <td>2021-09-05 01:35:46</td>\n",
       "      <td>Wells St &amp; Walton St</td>\n",
       "      <td>TA1306000011</td>\n",
       "      <td>Desplaines St &amp; Kinzie St</td>\n",
       "      <td>TA1306000003</td>\n",
       "      <td>41.899930</td>\n",
       "      <td>-87.634430</td>\n",
       "      <td>41.888716</td>\n",
       "      <td>-87.644448</td>\n",
       "      <td>casual</td>\n",
       "      <td>0 days 00:10:38</td>\n",
       "      <td>Sunday</td>\n",
       "      <td>September</td>\n",
       "    </tr>\n",
       "    <tr>\n",
       "      <th>61</th>\n",
       "      <td>9ECA91210441E847</td>\n",
       "      <td>classic_bike</td>\n",
       "      <td>32.45</td>\n",
       "      <td>2021-09-05 13:33:41</td>\n",
       "      <td>2021-09-05 14:06:08</td>\n",
       "      <td>Larrabee St &amp; Armitage Ave</td>\n",
       "      <td>TA1309000006</td>\n",
       "      <td>Clark St &amp; Leland Ave</td>\n",
       "      <td>TA1309000014</td>\n",
       "      <td>41.918084</td>\n",
       "      <td>-87.643749</td>\n",
       "      <td>41.967096</td>\n",
       "      <td>-87.667429</td>\n",
       "      <td>casual</td>\n",
       "      <td>0 days 00:32:27</td>\n",
       "      <td>Sunday</td>\n",
       "      <td>September</td>\n",
       "    </tr>\n",
       "    <tr>\n",
       "      <th>153</th>\n",
       "      <td>3DAA144C4E85E3AA</td>\n",
       "      <td>classic_bike</td>\n",
       "      <td>9.65</td>\n",
       "      <td>2021-09-04 23:00:21</td>\n",
       "      <td>2021-09-04 23:10:00</td>\n",
       "      <td>Dearborn St &amp; Monroe St</td>\n",
       "      <td>TA1305000006</td>\n",
       "      <td>Dearborn St &amp; Monroe St</td>\n",
       "      <td>TA1305000006</td>\n",
       "      <td>41.881320</td>\n",
       "      <td>-87.629521</td>\n",
       "      <td>41.881320</td>\n",
       "      <td>-87.629521</td>\n",
       "      <td>casual</td>\n",
       "      <td>0 days 00:09:39</td>\n",
       "      <td>Saturday</td>\n",
       "      <td>September</td>\n",
       "    </tr>\n",
       "    <tr>\n",
       "      <th>180</th>\n",
       "      <td>53B99FE9BD0D35F8</td>\n",
       "      <td>classic_bike</td>\n",
       "      <td>9.78</td>\n",
       "      <td>2021-09-14 16:25:16</td>\n",
       "      <td>2021-09-14 16:35:03</td>\n",
       "      <td>Kingsbury St &amp; Kinzie St</td>\n",
       "      <td>KA1503000043</td>\n",
       "      <td>Orleans St &amp; Elm St</td>\n",
       "      <td>TA1306000006</td>\n",
       "      <td>41.889177</td>\n",
       "      <td>-87.638506</td>\n",
       "      <td>41.902924</td>\n",
       "      <td>-87.637715</td>\n",
       "      <td>casual</td>\n",
       "      <td>0 days 00:09:47</td>\n",
       "      <td>Tuesday</td>\n",
       "      <td>September</td>\n",
       "    </tr>\n",
       "    <tr>\n",
       "      <th>182</th>\n",
       "      <td>2DB60C25C8CE3591</td>\n",
       "      <td>classic_bike</td>\n",
       "      <td>0.07</td>\n",
       "      <td>2021-09-13 22:34:54</td>\n",
       "      <td>2021-09-13 22:34:58</td>\n",
       "      <td>Michigan Ave &amp; Oak St</td>\n",
       "      <td>13042</td>\n",
       "      <td>Michigan Ave &amp; Oak St</td>\n",
       "      <td>13042</td>\n",
       "      <td>41.900960</td>\n",
       "      <td>-87.623777</td>\n",
       "      <td>41.900960</td>\n",
       "      <td>-87.623777</td>\n",
       "      <td>casual</td>\n",
       "      <td>0 days 00:00:04</td>\n",
       "      <td>Monday</td>\n",
       "      <td>September</td>\n",
       "    </tr>\n",
       "  </tbody>\n",
       "</table>\n",
       "</div>"
      ],
      "text/plain": [
       "              ride_id rideable_type  hire_time_minutes          started_at  \\\n",
       "59   E92C804563F261EC  classic_bike              10.63 2021-09-05 01:25:08   \n",
       "61   9ECA91210441E847  classic_bike              32.45 2021-09-05 13:33:41   \n",
       "153  3DAA144C4E85E3AA  classic_bike               9.65 2021-09-04 23:00:21   \n",
       "180  53B99FE9BD0D35F8  classic_bike               9.78 2021-09-14 16:25:16   \n",
       "182  2DB60C25C8CE3591  classic_bike               0.07 2021-09-13 22:34:54   \n",
       "\n",
       "               ended_at          start_station_name start_station_id  \\\n",
       "59  2021-09-05 01:35:46        Wells St & Walton St     TA1306000011   \n",
       "61  2021-09-05 14:06:08  Larrabee St & Armitage Ave     TA1309000006   \n",
       "153 2021-09-04 23:10:00     Dearborn St & Monroe St     TA1305000006   \n",
       "180 2021-09-14 16:35:03    Kingsbury St & Kinzie St     KA1503000043   \n",
       "182 2021-09-13 22:34:58       Michigan Ave & Oak St            13042   \n",
       "\n",
       "              end_station_name end_station_id  start_lat  start_lng  \\\n",
       "59   Desplaines St & Kinzie St   TA1306000003  41.899930 -87.634430   \n",
       "61       Clark St & Leland Ave   TA1309000014  41.918084 -87.643749   \n",
       "153    Dearborn St & Monroe St   TA1305000006  41.881320 -87.629521   \n",
       "180        Orleans St & Elm St   TA1306000006  41.889177 -87.638506   \n",
       "182      Michigan Ave & Oak St          13042  41.900960 -87.623777   \n",
       "\n",
       "       end_lat    end_lng member_casual           delta day_of_week  \\\n",
       "59   41.888716 -87.644448        casual 0 days 00:10:38      Sunday   \n",
       "61   41.967096 -87.667429        casual 0 days 00:32:27      Sunday   \n",
       "153  41.881320 -87.629521        casual 0 days 00:09:39    Saturday   \n",
       "180  41.902924 -87.637715        casual 0 days 00:09:47     Tuesday   \n",
       "182  41.900960 -87.623777        casual 0 days 00:00:04      Monday   \n",
       "\n",
       "    month_of_year  \n",
       "59      September  \n",
       "61      September  \n",
       "153     September  \n",
       "180     September  \n",
       "182     September  "
      ]
     },
     "execution_count": 36,
     "metadata": {},
     "output_type": "execute_result"
    }
   ],
   "source": [
    "cols = df_sample.columns\n",
    "\n",
    "def tweak_df(df):\n",
    "    return(df\n",
    "        .assign(\n",
    "            started_at = pd.to_datetime(df.started_at),\n",
    "            ended_at = pd.to_datetime(df.ended_at),\n",
    "        )\n",
    "        .astype({'member_casual': 'category', 'rideable_type': 'category'})\n",
    "        .dropna()\n",
    "        .drop_duplicates()\n",
    "    )\n",
    "\n",
    "df_sample = tweak_df(df_sample)\n",
    "df_sample['delta'] = (df_sample.iloc[:, 3] - df_sample.iloc[:, 2])\n",
    "dd = round((pd.to_datetime(df_sample[\"ended_at\"]) - pd.to_datetime(df_sample[\"started_at\"])).dt.total_seconds() / 60, 2)\n",
    "df_sample.insert(2, \"hire_time_minutes\", dd)\n",
    "\n",
    "df_sample['day_of_week'] = df_sample['started_at'].dt.day_name()\n",
    "df_sample['month_of_year'] = df_sample['started_at'].dt.month_name()\n",
    "\n",
    "df_sample.head()\n"
   ]
  },
  {
   "cell_type": "code",
   "execution_count": 38,
   "metadata": {},
   "outputs": [],
   "source": [
    "# Create a dictionary to map months to seasons\n",
    "seasons = {'January': 'Winter', 'February': 'Winter', 'March': 'Spring', 'April': 'Spring', 'May': 'Spring', 'June': 'Summer', 'July': 'Summer', 'August': 'Summer', 'September': 'Fall', 'October': 'Fall', 'November': 'Fall', 'December': 'Winter'}\n",
    "\n",
    "# Add a new column 'season' to the dataframe and map the 'month_of_year' column to the corresponding season\n",
    "df_sample['season'] = df_sample['month_of_year'].map(seasons)"
   ]
  },
  {
   "cell_type": "code",
   "execution_count": 39,
   "metadata": {},
   "outputs": [],
   "source": [
    "# Extracting the hour component of the 'started_at' column and storing it in a new column 'start_hour'\n",
    "df_sample['start_hour'] = df_sample['started_at'].dt.hour\n",
    "\n",
    "# Defining a function to map hours to time of day categories and applying it to the 'start_hour' column\n",
    "def get_time_of_day(hour):\n",
    "    if hour >= 5 and hour < 12:\n",
    "        return 'Morning'\n",
    "    elif hour >= 12 and hour < 17:\n",
    "        return 'Afternoon'\n",
    "    elif hour >= 17 and hour < 21:\n",
    "        return 'Evening'\n",
    "    else:\n",
    "        return 'Night'\n",
    "        \n",
    "df_sample['time_of_day'] = df_sample['start_hour'].apply(get_time_of_day)\n"
   ]
  },
  {
   "cell_type": "code",
   "execution_count": 40,
   "metadata": {},
   "outputs": [],
   "source": [
    "# Importing the required functions from the numpy module\n",
    "from numpy import sin, cos, sqrt, arcsin, radians\n",
    "\n",
    "# Defining a function to calculate the Haversine distance between two geographic coordinates\n",
    "def haversine_distance(df):\n",
    "    # Extracting the start and end latitude and longitude values from the input DataFrame and storing them as separate variables\n",
    "    lat1, lng1, lat2, lng2 = df[['start_lat', 'start_lng', 'end_lat', 'end_lng']].values.T\n",
    "    # Defining the radius of the Earth in kilometers\n",
    "    earth_radius = 6371\n",
    "    # Converting the latitude and longitude values from degrees to radians\n",
    "    lat1, lng1, lat2, lng2 = radians(lat1), radians(lng1), radians(lat2), radians(lng2)\n",
    "    # Calculating the differences in latitude and longitude values\n",
    "    dlat = lat2 - lat1\n",
    "    dlng = lng2 - lng1\n",
    "    # Applying the Haversine formula to calculate the distance between the two coordinates\n",
    "    a = sin(dlat/2.0)**2 + cos(lat1) * cos(lat2) * sin(dlng/2.0)**2\n",
    "    return earth_radius * 2 * arcsin(sqrt(a))\n",
    "\n",
    "# Applying the 'haversine_distance' function to the 'df_sample' DataFrame and storing the result in a new column 'distance'\n",
    "df_sample['distance'] = haversine_distance(df_sample)\n",
    "\n"
   ]
  },
  {
   "cell_type": "code",
   "execution_count": 41,
   "metadata": {},
   "outputs": [
    {
     "name": "stderr",
     "output_type": "stream",
     "text": [
      "/var/folders/j2/8nkm6kh168d3cbx7tv8t9mkw0000gn/T/ipykernel_35957/1842921081.py:11: SettingWithCopyWarning: \n",
      "A value is trying to be set on a copy of a slice from a DataFrame\n",
      "\n",
      "See the caveats in the documentation: https://pandas.pydata.org/pandas-docs/stable/user_guide/indexing.html#returning-a-view-versus-a-copy\n",
      "  df_sample.drop(columns=['hire_time_zscore', 'distance_zscore'], inplace=True)\n"
     ]
    },
    {
     "data": {
      "text/plain": [
       "(4498706, 21)"
      ]
     },
     "execution_count": 41,
     "metadata": {},
     "output_type": "execute_result"
    }
   ],
   "source": [
    "from scipy import stats\n",
    "\n",
    "# Calculate z-scores for hire_time_minutes and distance columns\n",
    "df_sample['hire_time_zscore'] = stats.zscore(df_sample['hire_time_minutes'])\n",
    "df_sample['distance_zscore'] = stats.zscore(df_sample['distance'])\n",
    "\n",
    "# Remove rows with z-scores greater than 3 or less than -3\n",
    "df_sample = df_sample.loc[(abs(df_sample['hire_time_zscore']) < 3) & (abs(df_sample['distance_zscore']) < 3)]\n",
    "\n",
    "# Drop the z-score columns\n",
    "df_sample.drop(columns=['hire_time_zscore', 'distance_zscore'], inplace=True)\n",
    "df_sample.shape"
   ]
  },
  {
   "cell_type": "code",
   "execution_count": 46,
   "metadata": {},
   "outputs": [],
   "source": [
    "#  removes any rows from the DataFrame where the value in the 'hire_time_minutes' column is less than zero. \n",
    "df_sample = df_sample[df_sample['hire_time_minutes'] >= 0]"
   ]
  },
  {
   "cell_type": "code",
   "execution_count": 47,
   "metadata": {},
   "outputs": [],
   "source": [
    "df_sample.to_csv('df_sample.csv')"
   ]
  },
  {
   "attachments": {},
   "cell_type": "markdown",
   "metadata": {},
   "source": [
    "# 🚀 Analysis"
   ]
  },
  {
   "cell_type": "code",
   "execution_count": 16,
   "metadata": {},
   "outputs": [
    {
     "data": {
      "text/html": [
       "<div>\n",
       "<style scoped>\n",
       "    .dataframe tbody tr th:only-of-type {\n",
       "        vertical-align: middle;\n",
       "    }\n",
       "\n",
       "    .dataframe tbody tr th {\n",
       "        vertical-align: top;\n",
       "    }\n",
       "\n",
       "    .dataframe thead th {\n",
       "        text-align: right;\n",
       "    }\n",
       "</style>\n",
       "<table border=\"1\" class=\"dataframe\">\n",
       "  <thead>\n",
       "    <tr style=\"text-align: right;\">\n",
       "      <th></th>\n",
       "      <th>ride_id</th>\n",
       "      <th>rideable_type</th>\n",
       "      <th>hire_time_minutes</th>\n",
       "      <th>started_at</th>\n",
       "      <th>ended_at</th>\n",
       "      <th>start_station_name</th>\n",
       "      <th>start_station_id</th>\n",
       "      <th>end_station_name</th>\n",
       "      <th>end_station_id</th>\n",
       "      <th>start_lat</th>\n",
       "      <th>start_lng</th>\n",
       "      <th>end_lat</th>\n",
       "      <th>end_lng</th>\n",
       "      <th>member_casual</th>\n",
       "      <th>day_of_week</th>\n",
       "      <th>month_of_year</th>\n",
       "      <th>season</th>\n",
       "      <th>start_hour</th>\n",
       "      <th>time_of_day</th>\n",
       "      <th>distance</th>\n",
       "    </tr>\n",
       "  </thead>\n",
       "  <tbody>\n",
       "    <tr>\n",
       "      <th>59</th>\n",
       "      <td>E92C804563F261EC</td>\n",
       "      <td>classic_bike</td>\n",
       "      <td>10.63</td>\n",
       "      <td>2021-09-05 01:25:08</td>\n",
       "      <td>2021-09-05 01:35:46</td>\n",
       "      <td>Wells St &amp; Walton St</td>\n",
       "      <td>TA1306000011</td>\n",
       "      <td>Desplaines St &amp; Kinzie St</td>\n",
       "      <td>TA1306000003</td>\n",
       "      <td>41.899930</td>\n",
       "      <td>-87.634430</td>\n",
       "      <td>41.888716</td>\n",
       "      <td>-87.644448</td>\n",
       "      <td>casual</td>\n",
       "      <td>Sunday</td>\n",
       "      <td>September</td>\n",
       "      <td>Fall</td>\n",
       "      <td>1</td>\n",
       "      <td>Night</td>\n",
       "      <td>1.497463</td>\n",
       "    </tr>\n",
       "    <tr>\n",
       "      <th>61</th>\n",
       "      <td>9ECA91210441E847</td>\n",
       "      <td>classic_bike</td>\n",
       "      <td>32.45</td>\n",
       "      <td>2021-09-05 13:33:41</td>\n",
       "      <td>2021-09-05 14:06:08</td>\n",
       "      <td>Larrabee St &amp; Armitage Ave</td>\n",
       "      <td>TA1309000006</td>\n",
       "      <td>Clark St &amp; Leland Ave</td>\n",
       "      <td>TA1309000014</td>\n",
       "      <td>41.918084</td>\n",
       "      <td>-87.643749</td>\n",
       "      <td>41.967096</td>\n",
       "      <td>-87.667429</td>\n",
       "      <td>casual</td>\n",
       "      <td>Sunday</td>\n",
       "      <td>September</td>\n",
       "      <td>Fall</td>\n",
       "      <td>13</td>\n",
       "      <td>Afternoon</td>\n",
       "      <td>5.791124</td>\n",
       "    </tr>\n",
       "    <tr>\n",
       "      <th>153</th>\n",
       "      <td>3DAA144C4E85E3AA</td>\n",
       "      <td>classic_bike</td>\n",
       "      <td>9.65</td>\n",
       "      <td>2021-09-04 23:00:21</td>\n",
       "      <td>2021-09-04 23:10:00</td>\n",
       "      <td>Dearborn St &amp; Monroe St</td>\n",
       "      <td>TA1305000006</td>\n",
       "      <td>Dearborn St &amp; Monroe St</td>\n",
       "      <td>TA1305000006</td>\n",
       "      <td>41.881320</td>\n",
       "      <td>-87.629521</td>\n",
       "      <td>41.881320</td>\n",
       "      <td>-87.629521</td>\n",
       "      <td>casual</td>\n",
       "      <td>Saturday</td>\n",
       "      <td>September</td>\n",
       "      <td>Fall</td>\n",
       "      <td>23</td>\n",
       "      <td>Night</td>\n",
       "      <td>0.000000</td>\n",
       "    </tr>\n",
       "    <tr>\n",
       "      <th>180</th>\n",
       "      <td>53B99FE9BD0D35F8</td>\n",
       "      <td>classic_bike</td>\n",
       "      <td>9.78</td>\n",
       "      <td>2021-09-14 16:25:16</td>\n",
       "      <td>2021-09-14 16:35:03</td>\n",
       "      <td>Kingsbury St &amp; Kinzie St</td>\n",
       "      <td>KA1503000043</td>\n",
       "      <td>Orleans St &amp; Elm St</td>\n",
       "      <td>TA1306000006</td>\n",
       "      <td>41.889177</td>\n",
       "      <td>-87.638506</td>\n",
       "      <td>41.902924</td>\n",
       "      <td>-87.637715</td>\n",
       "      <td>casual</td>\n",
       "      <td>Tuesday</td>\n",
       "      <td>September</td>\n",
       "      <td>Fall</td>\n",
       "      <td>16</td>\n",
       "      <td>Afternoon</td>\n",
       "      <td>1.530016</td>\n",
       "    </tr>\n",
       "    <tr>\n",
       "      <th>182</th>\n",
       "      <td>2DB60C25C8CE3591</td>\n",
       "      <td>classic_bike</td>\n",
       "      <td>0.07</td>\n",
       "      <td>2021-09-13 22:34:54</td>\n",
       "      <td>2021-09-13 22:34:58</td>\n",
       "      <td>Michigan Ave &amp; Oak St</td>\n",
       "      <td>13042</td>\n",
       "      <td>Michigan Ave &amp; Oak St</td>\n",
       "      <td>13042</td>\n",
       "      <td>41.900960</td>\n",
       "      <td>-87.623777</td>\n",
       "      <td>41.900960</td>\n",
       "      <td>-87.623777</td>\n",
       "      <td>casual</td>\n",
       "      <td>Monday</td>\n",
       "      <td>September</td>\n",
       "      <td>Fall</td>\n",
       "      <td>22</td>\n",
       "      <td>Night</td>\n",
       "      <td>0.000000</td>\n",
       "    </tr>\n",
       "  </tbody>\n",
       "</table>\n",
       "</div>"
      ],
      "text/plain": [
       "              ride_id rideable_type  hire_time_minutes          started_at  \\\n",
       "59   E92C804563F261EC  classic_bike              10.63 2021-09-05 01:25:08   \n",
       "61   9ECA91210441E847  classic_bike              32.45 2021-09-05 13:33:41   \n",
       "153  3DAA144C4E85E3AA  classic_bike               9.65 2021-09-04 23:00:21   \n",
       "180  53B99FE9BD0D35F8  classic_bike               9.78 2021-09-14 16:25:16   \n",
       "182  2DB60C25C8CE3591  classic_bike               0.07 2021-09-13 22:34:54   \n",
       "\n",
       "               ended_at          start_station_name start_station_id  \\\n",
       "59  2021-09-05 01:35:46        Wells St & Walton St     TA1306000011   \n",
       "61  2021-09-05 14:06:08  Larrabee St & Armitage Ave     TA1309000006   \n",
       "153 2021-09-04 23:10:00     Dearborn St & Monroe St     TA1305000006   \n",
       "180 2021-09-14 16:35:03    Kingsbury St & Kinzie St     KA1503000043   \n",
       "182 2021-09-13 22:34:58       Michigan Ave & Oak St            13042   \n",
       "\n",
       "              end_station_name end_station_id  start_lat  start_lng  \\\n",
       "59   Desplaines St & Kinzie St   TA1306000003  41.899930 -87.634430   \n",
       "61       Clark St & Leland Ave   TA1309000014  41.918084 -87.643749   \n",
       "153    Dearborn St & Monroe St   TA1305000006  41.881320 -87.629521   \n",
       "180        Orleans St & Elm St   TA1306000006  41.889177 -87.638506   \n",
       "182      Michigan Ave & Oak St          13042  41.900960 -87.623777   \n",
       "\n",
       "       end_lat    end_lng member_casual day_of_week month_of_year season  \\\n",
       "59   41.888716 -87.644448        casual      Sunday     September   Fall   \n",
       "61   41.967096 -87.667429        casual      Sunday     September   Fall   \n",
       "153  41.881320 -87.629521        casual    Saturday     September   Fall   \n",
       "180  41.902924 -87.637715        casual     Tuesday     September   Fall   \n",
       "182  41.900960 -87.623777        casual      Monday     September   Fall   \n",
       "\n",
       "     start_hour time_of_day  distance  \n",
       "59            1       Night  1.497463  \n",
       "61           13   Afternoon  5.791124  \n",
       "153          23       Night  0.000000  \n",
       "180          16   Afternoon  1.530016  \n",
       "182          22       Night  0.000000  "
      ]
     },
     "execution_count": 16,
     "metadata": {},
     "output_type": "execute_result"
    }
   ],
   "source": [
    "df_sample.head()"
   ]
  },
  {
   "cell_type": "code",
   "execution_count": 12,
   "metadata": {},
   "outputs": [
    {
     "name": "stdout",
     "output_type": "stream",
     "text": [
      "Average hire time  18.566676365999438\n",
      "Average hire time per user type:\n",
      "   member_casual  hire_time_minutes\n",
      "0        casual          26.027375\n",
      "1        member          12.590175\n"
     ]
    }
   ],
   "source": [
    "# Group the data by user type and calculate the average hire time\n",
    "df_avg_hire_time_user = df_sample.groupby('member_casual')['hire_time_minutes'].mean().reset_index()\n",
    "\n",
    "df_avg_hire_time=df_sample.hire_time_minutes.mean()\n",
    "# Print the result\n",
    "print('Average hire time ',df_avg_hire_time)\n",
    "print('Average hire time per user type:\\n', df_avg_hire_time_user)\n"
   ]
  },
  {
   "cell_type": "code",
   "execution_count": 80,
   "metadata": {},
   "outputs": [
    {
     "data": {
      "image/png": "[encoded data removed]",
      "text/plain": [
       "<Figure size 576x576 with 1 Axes>"
      ]
     },
     "metadata": {},
     "output_type": "display_data"
    }
   ],
   "source": [
    "import matplotlib.pyplot as plt\n",
    "\n",
    "# Group the data by user type and calculate the average hire time\n",
    "df_avg_hire_time_user = df_sample.groupby('member_casual')['hire_time_minutes'].mean().reset_index()\n",
    "\n",
    "df_avg_hire_time=df_sample.hire_time_minutes.mean()\n",
    "\n",
    "# Create a donut chart\n",
    "fig, ax = plt.subplots(figsize=(8, 8))\n",
    "\n",
    "# Set the chart title\n",
    "ax.set_title('Average hire time per user type', fontsize=16)\n",
    "\n",
    "# Create the donut chart\n",
    "wedges, texts, autotexts = ax.pie(df_avg_hire_time_user['hire_time_minutes'], \n",
    "                                  autopct='%1.1f%%', \n",
    "                                  textprops=dict(color=\"w\"),\n",
    "                                  colors=['#1f77b4', '#ff7f0e'], \n",
    "                                  radius=1, \n",
    "                                  pctdistance=0.8, \n",
    "                                  wedgeprops=dict(width=0.4, edgecolor='w'))\n",
    "\n",
    "# Set the center circle\n",
    "circle = plt.Circle((0, 0), 0.6, color='white')\n",
    "ax.add_artist(circle)\n",
    "\n",
    "# Add the overall average hire time to the center circle\n",
    "ax.text(0, 0, '{:.1f}\\nminutes'.format(df_avg_hire_time), \n",
    "        fontsize=24, \n",
    "        ha='center', \n",
    "        va='center')\n",
    "\n",
    "# Add a legend\n",
    "ax.legend(wedges, df_avg_hire_time_user['member_casual'], \n",
    "          title='User type', \n",
    "          loc='center left', \n",
    "          bbox_to_anchor=(1, 0, 0.5, 1))\n",
    "# Remove all spines\n",
    "for spine in ax.spines.values():\n",
    "    spine.set_visible(False)\n",
    "\n",
    "# Remove ticks from top and right spines\n",
    "ax.tick_params(top=False, right=False)\n",
    "plt.show()\n"
   ]
  },
  {
   "attachments": {},
   "cell_type": "markdown",
   "metadata": {},
   "source": [
    "\n",
    "### 🔍 The analysis revealed that, on average, users hired Cyclistic bikes for approximately 18.6 minutes. However, there was a significant difference in the average hire time between casual riders and annual members, with casual riders having an average hire time of 26 minutes and annual members having an average hire time of 12.6 minutes. This suggests that there may be different usage patterns and motivations for these two user types, which could inform targeted marketing strategies to convert casual riders into annual members."
   ]
  },
  {
   "cell_type": "code",
   "execution_count": 48,
   "metadata": {},
   "outputs": [
    {
     "data": {
      "text/plain": [
       "season\n",
       "Fall      16.232304\n",
       "Spring    20.500611\n",
       "Summer    20.094600\n",
       "Winter    13.010881\n",
       "Name: hire_time_minutes, dtype: float64"
      ]
     },
     "execution_count": 48,
     "metadata": {},
     "output_type": "execute_result"
    }
   ],
   "source": [
    "# Group by season and calculate the average hire duration\n",
    "df_sample.groupby(['season'])['hire_time_minutes'].mean()"
   ]
  },
  {
   "attachments": {},
   "cell_type": "markdown",
   "metadata": {},
   "source": [
    "The above shows the average hire duration for each season: Fall is 16.23 minutes, Spring is 20.50 minutes, Summer is 20.09 minutes, and Winter is 13.01 minutes.\n",
    "\n",
    "\n",
    "\n"
   ]
  },
  {
   "cell_type": "code",
   "execution_count": 49,
   "metadata": {},
   "outputs": [
    {
     "data": {
      "text/plain": [
       "season  member_casual\n",
       "Fall    casual           22.905111\n",
       "        member           11.677565\n",
       "Spring  casual           29.786255\n",
       "        member           13.481043\n",
       "Summer  casual           26.630196\n",
       "        member           13.224979\n",
       "Winter  casual           19.691852\n",
       "        member           11.070655\n",
       "Name: hire_time_minutes, dtype: float64"
      ]
     },
     "execution_count": 49,
     "metadata": {},
     "output_type": "execute_result"
    }
   ],
   "source": [
    "# Group by season and calculate the average hire duration\n",
    "season_avg = df_sample.groupby(['season','member_casual'])['hire_time_minutes'].mean()\n",
    "\n",
    "season_avg\n"
   ]
  },
  {
   "cell_type": "code",
   "execution_count": 79,
   "metadata": {},
   "outputs": [
    {
     "data": {
      "image/png": "[encoded data removed]",
      "text/plain": [
       "<Figure size 576x432 with 1 Axes>"
      ]
     },
     "metadata": {
      "needs_background": "light"
     },
     "output_type": "display_data"
    }
   ],
   "source": [
    "import matplotlib.pyplot as plt\n",
    "\n",
    "# Pivot the data to create separate columns for member_casual\n",
    "pivot_season_avg = season_avg.reset_index().pivot(index='season', columns='member_casual', values='hire_time_minutes')\n",
    "\n",
    "# Plot the bar chart\n",
    "ax = pivot_season_avg.plot(kind='bar', color=['#1f77b4', '#ff7f0e'], figsize=(8, 6))\n",
    "\n",
    "# Set the title and axis labels\n",
    "ax.set_title('Average Hire Duration by Season and User Type')\n",
    "ax.set_xlabel('Season')\n",
    "ax.set_ylabel('Average Hire Duration (minutes)')\n",
    "\n",
    "# Remove all spines\n",
    "for spine in ax.spines.values():\n",
    "    spine.set_visible(False)\n",
    "\n",
    "# Remove ticks from top and right spines\n",
    "ax.tick_params(top=False, right=False)\n",
    "\n",
    "# Show the plot\n",
    "plt.show()\n"
   ]
  },
  {
   "attachments": {},
   "cell_type": "markdown",
   "metadata": {},
   "source": [
    "### 🔍  Based on the analysis of the average hire time by season per user type, it is clear that casual riders take longer to use the bikes during each season compared to annual members. The longest average hire time was observed in Spring for casual riders, with an average hire time of 29 Min, while for annual members it was during Summer, with an average hire time of 13 Min. The shortest average hire time for both user types was observed during Winter."
   ]
  },
  {
   "cell_type": "code",
   "execution_count": 50,
   "metadata": {},
   "outputs": [
    {
     "data": {
      "text/plain": [
       "month_of_year\n",
       "April        19.891056\n",
       "August       19.166721\n",
       "December     12.231719\n",
       "February     16.193522\n",
       "January      13.025277\n",
       "July         20.336628\n",
       "June         20.847968\n",
       "March        18.971775\n",
       "May          21.603266\n",
       "November     12.660297\n",
       "October      15.824086\n",
       "September    18.028864\n",
       "Name: hire_time_minutes, dtype: float64"
      ]
     },
     "execution_count": 50,
     "metadata": {},
     "output_type": "execute_result"
    }
   ],
   "source": [
    "# group the data by each month\n",
    "df_sample.groupby(['month_of_year'])['hire_time_minutes'].mean()\n"
   ]
  },
  {
   "cell_type": "code",
   "execution_count": 51,
   "metadata": {},
   "outputs": [
    {
     "data": {
      "text/plain": [
       "month_of_year  member_casual\n",
       "April          casual           29.260285\n",
       "               member           13.587915\n",
       "August         casual           25.231133\n",
       "               member           12.981635\n",
       "December       casual           18.334090\n",
       "               member           10.144940\n",
       "February       casual           26.508796\n",
       "               member           13.636268\n",
       "January        casual           19.900444\n",
       "               member           11.559961\n",
       "July           casual           26.612132\n",
       "               member           13.190991\n",
       "June           casual           28.224691\n",
       "               member           13.527160\n",
       "March          casual           29.212788\n",
       "               member           13.073545\n",
       "May            casual           30.278820\n",
       "               member           13.626648\n",
       "November       casual           18.577854\n",
       "               member           10.444654\n",
       "October        casual           22.470363\n",
       "               member           11.503141\n",
       "September      casual           24.226736\n",
       "               member           12.533417\n",
       "Name: hire_time_minutes, dtype: float64"
      ]
     },
     "execution_count": 51,
     "metadata": {},
     "output_type": "execute_result"
    }
   ],
   "source": [
    "# Group by month and calculate the average hire duration\n",
    "\n",
    "month_avg = df_sample.groupby(['month_of_year','member_casual'])['hire_time_minutes'].mean()\n",
    "\n",
    "month_avg\n"
   ]
  },
  {
   "cell_type": "code",
   "execution_count": 78,
   "metadata": {},
   "outputs": [
    {
     "data": {
      "image/png": "[encoded data removed]",
      "text/plain": [
       "<Figure size 720x432 with 1 Axes>"
      ]
     },
     "metadata": {
      "needs_background": "light"
     },
     "output_type": "display_data"
    }
   ],
   "source": [
    "\n",
    "\n",
    "# Define the list of month names\n",
    "months = ['Jan', 'Feb', 'Mar', 'Apr', 'May', 'Jun', 'Jul', 'Aug', 'Sep', 'Oct', 'Nov', 'Dec']\n",
    "\n",
    "# Group by month and calculate the average hire duration\n",
    "month_avg = df_sample.groupby(['month_of_year', 'member_casual'])['hire_time_minutes'].mean()\n",
    "\n",
    "# Convert the groupby object into a DataFrame\n",
    "month_avg = month_avg.unstack()\n",
    "\n",
    "# Plot the line chart\n",
    "ax = month_avg.plot(kind='line', figsize=(10, 6), marker='o')\n",
    "ax.set_title('Monthly Average Hire Duration by Member Type')\n",
    "ax.set_xlabel('Month')\n",
    "ax.set_ylabel('Average Hire Duration (Minutes)')\n",
    "\n",
    "# Set the x-tick locations and labels\n",
    "ax.set_xticks(range(len(months)))\n",
    "ax.set_xticklabels(months)\n",
    "\n",
    "# Remove all spines\n",
    "for spine in ax.spines.values():\n",
    "    spine.set_visible(False)\n",
    "\n",
    "# Remove ticks from top and right spines\n",
    "ax.tick_params(top=False, right=False)\n",
    "\n",
    "plt.show()\n",
    "\n",
    "\n"
   ]
  },
  {
   "attachments": {},
   "cell_type": "markdown",
   "metadata": {},
   "source": [
    "### 🔍  Based on the analysis of the average hire time by month and user type, it is clear that casual riders take longer to use the bikes during each month compared to annual members.In terms of months, the longest hire times for both casual and annual members occur in May, followed by June and April, while the shortest hire times occur in February, April, and may."
   ]
  },
  {
   "cell_type": "code",
   "execution_count": 52,
   "metadata": {},
   "outputs": [
    {
     "data": {
      "text/plain": [
       "day_of_week\n",
       "Friday       17.455615\n",
       "Monday       17.918767\n",
       "Saturday     22.016303\n",
       "Sunday       23.219920\n",
       "Thursday     15.671776\n",
       "Tuesday      16.030438\n",
       "Wednesday    15.670784\n",
       "Name: hire_time_minutes, dtype: float64"
      ]
     },
     "execution_count": 52,
     "metadata": {},
     "output_type": "execute_result"
    }
   ],
   "source": [
    "# GRoup the data by day of the week\n",
    "df_sample.groupby(['day_of_week'])['hire_time_minutes'].mean()\n"
   ]
  },
  {
   "cell_type": "code",
   "execution_count": 53,
   "metadata": {},
   "outputs": [
    {
     "data": {
      "text/plain": [
       "day_of_week  member_casual\n",
       "Friday       casual           24.058934\n",
       "             member           12.247215\n",
       "Monday       casual           26.677602\n",
       "             member           12.164144\n",
       "Saturday     casual           28.068914\n",
       "             member           14.143397\n",
       "Sunday       casual           30.029821\n",
       "             member           14.470165\n",
       "Thursday     casual           22.136826\n",
       "             member           11.807235\n",
       "Tuesday      casual           23.639579\n",
       "             member           11.835654\n",
       "Wednesday    casual           22.597574\n",
       "             member           11.886530\n",
       "Name: hire_time_minutes, dtype: float64"
      ]
     },
     "execution_count": 53,
     "metadata": {},
     "output_type": "execute_result"
    }
   ],
   "source": [
    "# Group by day of the week and calculate the average hire duration\n",
    "\n",
    "day_avg = df_sample.groupby(['day_of_week','member_casual'])['hire_time_minutes'].mean()\n",
    "\n",
    "day_avg\n"
   ]
  },
  {
   "cell_type": "code",
   "execution_count": 83,
   "metadata": {},
   "outputs": [
    {
     "data": {
      "image/png": "[encoded data removed]",
      "text/plain": [
       "<Figure size 720x432 with 1 Axes>"
      ]
     },
     "metadata": {
      "needs_background": "light"
     },
     "output_type": "display_data"
    }
   ],
   "source": [
    "import pandas as pd\n",
    "import matplotlib.pyplot as plt\n",
    "\n",
    "# Define the list of weekdays in order\n",
    "weekdays = ['Sunday', 'Monday', 'Tuesday', 'Wednesday', 'Thursday', 'Friday', 'Saturday']\n",
    "\n",
    "# Group by day of the week and calculate the average hire duration\n",
    "day_avg = df_sample.groupby(['day_of_week','member_casual'])['hire_time_minutes'].mean()\n",
    "\n",
    "# Convert the multi-index Series to a DataFrame and set the weekday order\n",
    "df_day_avg = day_avg.unstack().reindex(pd.Categorical(weekdays, categories=weekdays, ordered=True))\n",
    "\n",
    "# Plot the grouped bar chart\n",
    "ax = df_day_avg.plot(kind='bar', figsize=(10,6))\n",
    "\n",
    "# Add labels and titles\n",
    "ax.set_xlabel('Day of Week')\n",
    "ax.set_ylabel('Average Hire Duration (minutes)')\n",
    "ax.set_title('Average Hire Duration by Day of Week and User Type')\n",
    "\n",
    "# Remove all spines\n",
    "for spine in ax.spines.values():\n",
    "    spine.set_visible(False)\n",
    "\n",
    "# Remove ticks from top and right spines\n",
    "ax.tick_params(top=False, right=False)\n",
    "\n",
    "plt.show()\n"
   ]
  },
  {
   "attachments": {},
   "cell_type": "markdown",
   "metadata": {},
   "source": [
    "### 🔍  Based on the analysis of the average hire time by day of the week and user type, it is clear that casual riders take longer to use the bikes during each day compared to annual members. On average, casual riders take approximately 12 minutes more per ride than annual members.Additionally, it appears that there is a trend of longer hire times on weekends (Saturday and Sunday) for both casual and annual members compared to weekdays (Monday to Friday). The longest hire times occur on Sundays for both user types, while the shortest hire times occur on Thursdays for casual riders and Mondays for annual members."
   ]
  },
  {
   "cell_type": "code",
   "execution_count": 255,
   "metadata": {},
   "outputs": [
    {
     "data": {
      "text/plain": [
       "start_hour\n",
       "0     19.661793\n",
       "1     19.830674\n",
       "2     20.509510\n",
       "3     21.339355\n",
       "4     16.769982\n",
       "5     12.311484\n",
       "6     12.388476\n",
       "7     12.789002\n",
       "8     13.613419\n",
       "9     17.035852\n",
       "10    20.224911\n",
       "11    21.026605\n",
       "12    20.657180\n",
       "13    21.610623\n",
       "14    21.714415\n",
       "15    20.424592\n",
       "16    18.811143\n",
       "17    17.743989\n",
       "18    17.545080\n",
       "19    17.893022\n",
       "20    18.190632\n",
       "21    18.117845\n",
       "22    18.317462\n",
       "23    18.766520\n",
       "Name: hire_time_minutes, dtype: float64"
      ]
     },
     "execution_count": 255,
     "metadata": {},
     "output_type": "execute_result"
    }
   ],
   "source": [
    "df_sample.groupby([ 'start_hour'])['hire_time_minutes'].mean()\n"
   ]
  },
  {
   "cell_type": "code",
   "execution_count": 259,
   "metadata": {},
   "outputs": [
    {
     "data": {
      "text/plain": [
       "member_casual  start_hour\n",
       "casual         0             24.262942\n",
       "               1             23.720563\n",
       "               2             24.076899\n",
       "               3             25.608713\n",
       "               4             21.960257\n",
       "               5             19.082263\n",
       "               6             17.156939\n",
       "               7             18.028733\n",
       "               8             20.712149\n",
       "               9             26.452941\n",
       "               10            29.783503\n",
       "               11            30.380885\n",
       "               12            29.561456\n",
       "               13            30.485656\n",
       "               14            30.024547\n",
       "               15            28.355837\n",
       "               16            26.323209\n",
       "               17            24.202802\n",
       "               18            23.379786\n",
       "               19            23.843801\n",
       "               20            24.158474\n",
       "               21            23.518829\n",
       "               22            22.956585\n",
       "Name: hire_time_minutes, dtype: float64"
      ]
     },
     "execution_count": 259,
     "metadata": {},
     "output_type": "execute_result"
    }
   ],
   "source": [
    "\n",
    "# group the data by user type and time of day and calculate the mean hire duration\n",
    "avg_duration_by_type_time = df_sample.groupby(['member_casual', 'start_hour'])['hire_time_minutes'].mean()\n",
    "\n",
    "# print the result\n",
    "avg_duration_by_type_time.head()\n"
   ]
  },
  {
   "cell_type": "code",
   "execution_count": 88,
   "metadata": {},
   "outputs": [
    {
     "data": {
      "image/png": "[encoded data removed]",
      "text/plain": [
       "<Figure size 720x432 with 1 Axes>"
      ]
     },
     "metadata": {
      "needs_background": "light"
     },
     "output_type": "display_data"
    }
   ],
   "source": [
    "# Group the data by user type and time of day and calculate the mean hire duration\n",
    "avg_duration_by_type_time = df_sample.groupby(['member_casual', 'start_hour'])['hire_time_minutes'].mean()\n",
    "\n",
    "# Pivot the data to create separate columns for casual and member riders\n",
    "df_pivot = avg_duration_by_type_time.unstack(level=0)\n",
    "\n",
    "# Create the line chart with markers\n",
    "fig, ax = plt.subplots(figsize=(10, 6))\n",
    "ax.plot(df_pivot['casual'], label='Casual', marker='o')\n",
    "ax.plot(df_pivot['member'], label='Member', marker='s')\n",
    "\n",
    "# Set tick values and labels for the x-axis\n",
    "ax.set_xticks(range(0, 24, 2))\n",
    "ax.set_xticklabels([f'{hour}:00' for hour in range(0, 24, 2)])\n",
    "\n",
    "# Add labels and title\n",
    "ax.set_xlabel('Start Hour')\n",
    "ax.set_ylabel('Average Hire Duration (minutes)')\n",
    "ax.set_title('Average Hire Duration by Time of Day and User Type')\n",
    "\n",
    "# Remove all spines\n",
    "for spine in ax.spines.values():\n",
    "    spine.set_visible(False)\n",
    "\n",
    "# Remove ticks from top and right spines\n",
    "ax.tick_params(top=False, right=False)\n",
    "\n",
    "# Add legend\n",
    "ax.legend()\n",
    "\n",
    "# Show the chart\n",
    "plt.show()\n",
    "\n"
   ]
  },
  {
   "cell_type": "code",
   "execution_count": 258,
   "metadata": {},
   "outputs": [
    {
     "data": {
      "text/plain": [
       "member_casual  time_of_day\n",
       "casual         Afternoon      28.846202\n",
       "               Evening        23.875442\n",
       "               Morning        26.134006\n",
       "               Night          23.550191\n",
       "member         Afternoon      13.012288\n",
       "               Evening        13.010656\n",
       "               Morning        11.775335\n",
       "               Night          12.239164\n",
       "Name: hire_time_minutes, dtype: float64"
      ]
     },
     "execution_count": 258,
     "metadata": {},
     "output_type": "execute_result"
    }
   ],
   "source": [
    "df_sample.groupby(['member_casual', 'time_of_day'])['hire_time_minutes'].mean()"
   ]
  },
  {
   "attachments": {},
   "cell_type": "markdown",
   "metadata": {},
   "source": [
    "### 🔍 The data reveals that casual riders tend to have longer ride durations during the early morning hours, peaking at around 3am with an average of 25.6 minutes. After that, the duration gradually decreases until it reaches its lowest point at 5am with an average of 19.1 minutes, and then increases steadily again until it peaks in the late morning and early afternoon hours.On the other hand, for annual members, the ride duration remains relatively consistent throughout the day, with a slight peak during the mid-morning and early afternoon hours. The average ride duration for annual members is much lower than that of casual riders, with a peak of only 13.2 minutes in the 2pm hour."
   ]
  },
  {
   "attachments": {},
   "cell_type": "markdown",
   "metadata": {},
   "source": [
    "# Let's shitf our Gears and focus on Distance covered "
   ]
  },
  {
   "cell_type": "code",
   "execution_count": 214,
   "metadata": {},
   "outputs": [
    {
     "data": {
      "text/plain": [
       "8924262.422710313"
      ]
     },
     "execution_count": 214,
     "metadata": {},
     "output_type": "execute_result"
    }
   ],
   "source": [
    "# Sum of distance covered \n",
    "df_sample.distance.sum()"
   ]
  },
  {
   "cell_type": "code",
   "execution_count": 228,
   "metadata": {},
   "outputs": [
    {
     "data": {
      "text/plain": [
       "member_casual\n",
       "casual    4.019781e+06\n",
       "member    4.904482e+06\n",
       "Name: distance, dtype: float64"
      ]
     },
     "execution_count": 228,
     "metadata": {},
     "output_type": "execute_result"
    }
   ],
   "source": [
    "# Sum of distance covered each user \n",
    "df_sample.groupby('member_casual').distance.sum()"
   ]
  },
  {
   "cell_type": "code",
   "execution_count": 91,
   "metadata": {},
   "outputs": [
    {
     "data": {
      "image/png": "[encoded data removed]",
      "text/plain": [
       "<Figure size 576x576 with 1 Axes>"
      ]
     },
     "metadata": {},
     "output_type": "display_data"
    }
   ],
   "source": [
    "import matplotlib.pyplot as plt\n",
    "\n",
    "# Group the data by user type and calculate the total distance covered\n",
    "df_total_distance_user = df_sample.groupby('member_casual')['distance'].sum().reset_index()\n",
    "\n",
    "# Calculate the overall total distance covered\n",
    "total_distance = df_sample.distance.sum()\n",
    "\n",
    "# Create a donut chart\n",
    "fig, ax = plt.subplots(figsize=(8, 8))\n",
    "\n",
    "# Set the chart title\n",
    "ax.set_title('Total distance covered', fontsize=16)\n",
    "\n",
    "# Create the donut chart\n",
    "wedges, texts, autotexts = ax.pie(df_total_distance_user['distance'], \n",
    "                                  autopct='%1.1f%%', \n",
    "                                  textprops=dict(color=\"w\"),\n",
    "                                  colors=['#1f77b4', '#ff7f0e'], \n",
    "                                  radius=1, \n",
    "                                  pctdistance=0.8, \n",
    "                                  wedgeprops=dict(width=0.4, edgecolor='w'))\n",
    "\n",
    "# Set the center circle\n",
    "circle = plt.Circle((0, 0), 0.6, color='white')\n",
    "ax.add_artist(circle)\n",
    "\n",
    "# Add the overall total distance covered to the center circle\n",
    "ax.text(0, 0, '{:.1f}\\nkm'.format(total_distance/1000), \n",
    "        fontsize=24, \n",
    "        ha='center', \n",
    "        va='center')\n",
    "\n",
    "# Add a legend\n",
    "ax.legend(wedges, df_total_distance_user['member_casual'], \n",
    "          title='User type', \n",
    "          loc='center left', \n",
    "          bbox_to_anchor=(1, 0, 0.5, 1))\n",
    "\n",
    "# Remove all spines\n",
    "for spine in ax.spines.values():\n",
    "    spine.set_visible(False)\n",
    "\n",
    "# Remove ticks from top and right spines\n",
    "ax.tick_params(top=False, right=False)\n",
    "\n",
    "plt.show()\n"
   ]
  },
  {
   "attachments": {},
   "cell_type": "markdown",
   "metadata": {},
   "source": [
    "### 🔍  Member riders covered approximately 18% more distance than casual riders, with members covering a total of 4.9 M kilometers compared to 4.0 M kilometers covered by casual riders. "
   ]
  },
  {
   "cell_type": "code",
   "execution_count": 215,
   "metadata": {},
   "outputs": [
    {
     "name": "stdout",
     "output_type": "stream",
     "text": [
      "season\n",
      "Fall      2.591848e+06\n",
      "Spring    1.845380e+06\n",
      "Summer    3.950196e+06\n",
      "Winter    5.368384e+05\n",
      "Name: distance, dtype: float64\n"
     ]
    }
   ],
   "source": [
    "# Sum of distance covered by season\n",
    "season_distance = df_sample.groupby('season')['distance'].sum()\n",
    "print(season_distance)\n"
   ]
  },
  {
   "cell_type": "code",
   "execution_count": 217,
   "metadata": {},
   "outputs": [
    {
     "data": {
      "text/plain": [
       "season  member_casual\n",
       "Fall    casual           1.101039e+06\n",
       "        member           1.490809e+06\n",
       "Spring  casual           7.690564e+05\n",
       "        member           1.076323e+06\n",
       "Summer  casual           2.027362e+06\n",
       "        member           1.922834e+06\n",
       "Winter  casual           1.223237e+05\n",
       "        member           4.145147e+05\n",
       "Name: distance, dtype: float64"
      ]
     },
     "execution_count": 217,
     "metadata": {},
     "output_type": "execute_result"
    }
   ],
   "source": [
    "# Sum of distance covered per user for each season\n",
    "season_distance = df_sample.groupby(['season', 'member_casual'])['distance'].sum()\n",
    "season_distance\n"
   ]
  },
  {
   "cell_type": "code",
   "execution_count": 93,
   "metadata": {},
   "outputs": [
    {
     "data": {
      "image/png": "[encoded data removed]",
      "text/plain": [
       "<Figure size 720x432 with 1 Axes>"
      ]
     },
     "metadata": {
      "needs_background": "light"
     },
     "output_type": "display_data"
    }
   ],
   "source": [
    "import matplotlib.pyplot as plt\n",
    "import numpy as np\n",
    "\n",
    "# Sum of distance covered per user for each season\n",
    "season_distance = df_sample.groupby(['season', 'member_casual'])['distance'].sum()\n",
    "\n",
    "# Pivot the data to create separate columns for casual and member riders\n",
    "df_pivot = season_distance.unstack(level=1)\n",
    "\n",
    "# Create the bar chart\n",
    "fig, ax = plt.subplots(figsize=(10, 6))\n",
    "width = 0.35\n",
    "seasons = df_pivot.index\n",
    "x = np.arange(len(seasons))\n",
    "casual = ax.bar(x - width/2, df_pivot['casual'], width, label='Casual')\n",
    "member = ax.bar(x + width/2, df_pivot['member'], width, label='Member')\n",
    "\n",
    "# Add labels and title\n",
    "ax.set_xlabel('Season')\n",
    "ax.set_ylabel('Distance Covered (km)')\n",
    "ax.set_title('Distance Covered per User Type by Season')\n",
    "\n",
    "# Add x-axis tick labels\n",
    "ax.set_xticks(x)\n",
    "ax.set_xticklabels(seasons)\n",
    "\n",
    "# Add legend and grid\n",
    "ax.legend()\n",
    "# Remove all spines\n",
    "for spine in ax.spines.values():\n",
    "    spine.set_visible(False)\n",
    "\n",
    "# Remove ticks from top and right spines\n",
    "ax.tick_params(top=False, right=False)\n",
    "\n",
    "# Show the chart\n",
    "plt.show()\n"
   ]
  },
  {
   "attachments": {},
   "cell_type": "markdown",
   "metadata": {},
   "source": [
    "### 🔍  In the summer season, casual riders covered more distance than members, while in all other seasons, members covered significantly greater distance than casuals, consistently covering more distance than casuals\n",
    "\n"
   ]
  },
  {
   "cell_type": "code",
   "execution_count": 218,
   "metadata": {},
   "outputs": [
    {
     "data": {
      "text/plain": [
       "month_of_year\n",
       "April        5.727539e+05\n",
       "August       1.347645e+06\n",
       "December     3.091504e+05\n",
       "February     7.771774e+04\n",
       "January      1.499702e+05\n",
       "July         1.389008e+06\n",
       "June         1.213542e+06\n",
       "March        3.907319e+05\n",
       "May          8.818940e+05\n",
       "November     4.535586e+05\n",
       "October      9.053128e+05\n",
       "September    1.232977e+06\n",
       "Name: distance, dtype: float64"
      ]
     },
     "execution_count": 218,
     "metadata": {},
     "output_type": "execute_result"
    }
   ],
   "source": [
    "# Sum of distance covered for each month\n",
    "month_distance = df_sample.groupby(['month_of_year'])['distance'].sum()\n",
    "month_distance\n"
   ]
  },
  {
   "cell_type": "code",
   "execution_count": null,
   "metadata": {},
   "outputs": [
    {
     "data": {
      "text/plain": [
       "member_casual  month_of_year\n",
       "casual         April            220583.923923\n",
       "               August           690522.434796\n",
       "               December          80464.762147\n",
       "               February          15524.998146\n",
       "               January           26333.977327\n",
       "               July             739835.997506\n",
       "               June             597003.085920\n",
       "               March            137040.196263\n",
       "               May              411432.291729\n",
       "               November         128998.755726\n",
       "               October          375378.788060\n",
       "               September        596661.677055\n",
       "member         April            352169.988639\n",
       "               August           657122.862161\n",
       "               December         228685.677284\n",
       "               February          62192.742611\n",
       "               January          123636.263251\n",
       "               July             649172.291731\n",
       "               June             616539.132356\n",
       "               March            253691.685565\n",
       "               May              470461.724188\n",
       "               November         324559.871323\n",
       "               October          529934.032272\n",
       "               September        636315.262735\n",
       "Name: distance, dtype: float64"
      ]
     },
     "metadata": {},
     "output_type": "display_data"
    }
   ],
   "source": [
    "# Sum of distance covered per season for each month\n",
    "df_sample.groupby(['member_casual','month_of_year']).distance.sum()"
   ]
  },
  {
   "cell_type": "code",
   "execution_count": 109,
   "metadata": {},
   "outputs": [
    {
     "data": {
      "image/png": "[encoded data removed]",
      "text/plain": [
       "<Figure size 720x432 with 1 Axes>"
      ]
     },
     "metadata": {
      "needs_background": "light"
     },
     "output_type": "display_data"
    }
   ],
   "source": [
    "import matplotlib.pyplot as plt\n",
    "\n",
    "# Sum of distance covered per season for each month\n",
    "season_month_distance = df_sample.groupby(['member_casual', 'month_of_year']).distance.sum()\n",
    "\n",
    "# Reshape the data for a stacked bar chart\n",
    "season_month_distance = season_month_distance.unstack(level=0)\n",
    "\n",
    "# Define the colors for each category\n",
    "colors = {'casual': '#1f77b4', 'member': '#ff7f0e'}\n",
    "\n",
    "# Plot the stacked bar chart\n",
    "ax = season_month_distance.plot(kind='bar', stacked=True, color=colors.values(), figsize=(10,6))\n",
    "\n",
    "# Set the title and axis labels\n",
    "ax.set_title('Total Distance Covered per Month and User Type')\n",
    "ax.set_xlabel('Month of Year')\n",
    "ax.set_ylabel('Distance (m)')\n",
    "\n",
    "# Add the legend\n",
    "handles = [plt.Rectangle((0,0),1,1, color=colors[label]) for label in season_month_distance.columns]\n",
    "ax.legend(handles, season_month_distance.columns, loc='upper right')\n",
    "\n",
    "# Remove all spines\n",
    "for spine in ax.spines.values():\n",
    "    spine.set_visible(False)\n",
    "\n",
    "# Remove ticks from top and right spines\n",
    "ax.tick_params(top=False, right=False)\n",
    "\n",
    "# Show the chart\n",
    "plt.show()\n"
   ]
  },
  {
   "attachments": {},
   "cell_type": "markdown",
   "metadata": {},
   "source": [
    "### 🔍  members covered significantly greater distance than casuals in most months. However, there were a few months where casuals covered more distance than members, such as August and July."
   ]
  },
  {
   "cell_type": "code",
   "execution_count": 238,
   "metadata": {},
   "outputs": [
    {
     "data": {
      "text/plain": [
       "day_of_week\n",
       "Friday       1.269050e+06\n",
       "Monday       1.080244e+06\n",
       "Saturday     1.678648e+06\n",
       "Sunday       1.427091e+06\n",
       "Thursday     1.144887e+06\n",
       "Tuesday      1.143750e+06\n",
       "Wednesday    1.180592e+06\n",
       "Name: distance, dtype: float64"
      ]
     },
     "metadata": {},
     "output_type": "display_data"
    }
   ],
   "source": [
    "# Sum of distance covered for each day of week\n",
    "day_distance = df_sample.groupby(['day_of_week'])['distance'].sum()\n",
    "display(day_distance)\n"
   ]
  },
  {
   "cell_type": "code",
   "execution_count": 221,
   "metadata": {},
   "outputs": [
    {
     "name": "stdout",
     "output_type": "stream",
     "text": [
      "day_of_week  member_casual\n",
      "Friday       casual           572163.190875\n",
      "             member           696886.794500\n",
      "Monday       casual           426761.350365\n",
      "             member           653482.874189\n",
      "Saturday     casual           956077.331150\n",
      "             member           722570.769776\n",
      "Sunday       casual           800566.906282\n",
      "             member           626523.609678\n",
      "Thursday     casual           435807.652565\n",
      "             member           709079.156886\n",
      "Tuesday      casual           407664.526282\n",
      "             member           736085.839539\n",
      "Wednesday    casual           420739.931077\n",
      "             member           759852.489546\n",
      "Name: distance, dtype: float64\n"
     ]
    }
   ],
   "source": [
    "# Sum of distance covered for each day of week per user type.\n",
    "day_distance = df_sample.groupby(['day_of_week', 'member_casual'])['distance'].sum()\n",
    "print(day_distance)\n"
   ]
  },
  {
   "cell_type": "code",
   "execution_count": 113,
   "metadata": {},
   "outputs": [
    {
     "data": {
      "image/png": "[encoded data removed]",
      "text/plain": [
       "<Figure size 720x432 with 1 Axes>"
      ]
     },
     "metadata": {
      "needs_background": "light"
     },
     "output_type": "display_data"
    }
   ],
   "source": [
    "import pandas as pd\n",
    "import matplotlib.pyplot as plt\n",
    "\n",
    "# Define the order of the days of the week\n",
    "day_order = ['Sunday', 'Monday', 'Tuesday', 'Wednesday', 'Thursday', 'Friday', 'Saturday']\n",
    "\n",
    "# Sum of distance covered for each day of the week per user type\n",
    "day_distance = df_sample.groupby(['day_of_week', 'member_casual'])['distance'].sum()\n",
    "\n",
    "# Reshape the data for a grouped bar chart\n",
    "day_distance = day_distance.unstack(level=1)\n",
    "day_distance.index = pd.Categorical(day_distance.index, categories=day_order, ordered=True)\n",
    "day_distance = day_distance.sort_index()\n",
    "\n",
    "# Define the colors for each category\n",
    "colors = {'casual': '#1f77b4', 'member': '#ff7f0e'}\n",
    "\n",
    "# Plot the grouped bar chart\n",
    "ax = day_distance.plot(kind='bar', width=0.8, color=colors.values(), figsize=(10,6))\n",
    "\n",
    "# Set the title and axis labels\n",
    "ax.set_title('Total Distance Covered per Day of Week and User Type')\n",
    "ax.set_xlabel('Day of Week')\n",
    "ax.set_ylabel('Distance (m)')\n",
    "\n",
    "# Add the legend\n",
    "handles = [plt.Rectangle((0,0),1,1, color=colors[label]) for label in day_distance.columns]\n",
    "ax.legend(handles, day_distance.columns, loc='upper left')\n",
    "\n",
    "# Remove all spines\n",
    "for spine in ax.spines.values():\n",
    "    spine.set_visible(False)\n",
    "\n",
    "# Remove ticks from top and right spines\n",
    "ax.tick_params(top=False, right=False)\n",
    "\n",
    "# Show the chart\n",
    "plt.show()\n"
   ]
  },
  {
   "attachments": {},
   "cell_type": "markdown",
   "metadata": {},
   "source": [
    "### 🔍  Casual users covered the most distance on Saturdays with 946K KM ,while members covered the most distance on Wednesday with 760K KM."
   ]
  },
  {
   "cell_type": "code",
   "execution_count": 17,
   "metadata": {},
   "outputs": [
    {
     "name": "stdout",
     "output_type": "stream",
     "text": [
      "time_of_day\n",
      "Afternoon    3.047896e+06\n",
      "Evening      2.685001e+06\n",
      "Morning      2.116575e+06\n",
      "Night        1.074790e+06\n",
      "Name: distance, dtype: float64\n"
     ]
    }
   ],
   "source": [
    "# Sum of distance covered per user for each time of day\n",
    "df_time = df_sample.groupby(['time_of_day'])['distance'].sum()\n",
    "print(df_time)"
   ]
  },
  {
   "cell_type": "code",
   "execution_count": 222,
   "metadata": {},
   "outputs": [
    {
     "name": "stdout",
     "output_type": "stream",
     "text": [
      "time_of_day  member_casual\n",
      "Afternoon    casual           1.490325e+06\n",
      "             member           1.557571e+06\n",
      "Evening      casual           1.184851e+06\n",
      "             member           1.500150e+06\n",
      "Morning      casual           7.319881e+05\n",
      "             member           1.384587e+06\n",
      "Night        casual           6.126167e+05\n",
      "             member           4.621737e+05\n",
      "Name: distance, dtype: float64\n"
     ]
    }
   ],
   "source": [
    "# Sum of distance covered per user for each time of day\n",
    "df_time = df_sample.groupby(['time_of_day', 'member_casual'])['distance'].sum()\n",
    "print(df_time)"
   ]
  },
  {
   "cell_type": "code",
   "execution_count": 115,
   "metadata": {},
   "outputs": [
    {
     "data": {
      "image/png": "[encoded data removed]",
      "text/plain": [
       "<Figure size 720x432 with 1 Axes>"
      ]
     },
     "metadata": {
      "needs_background": "light"
     },
     "output_type": "display_data"
    }
   ],
   "source": [
    "# Sum of distance covered per user for each time of day\n",
    "df_time = df_sample.groupby(['time_of_day', 'member_casual'])['distance'].sum()\n",
    "\n",
    "# Reshape the data for a stacked bar chart\n",
    "df_time = df_time.unstack(level=1)\n",
    "\n",
    "# Define the colors for each category\n",
    "colors = {'casual': '#1f77b4', 'member': '#ff7f0e'}\n",
    "\n",
    "# Plot the stacked bar chart\n",
    "ax = df_time.plot(kind='bar', stacked=True, color=colors.values(), figsize=(10,6))\n",
    "\n",
    "# Set the title and axis labels\n",
    "ax.set_title('Total Distance Covered per User and Time of Day')\n",
    "ax.set_xlabel('Time of Day')\n",
    "ax.set_ylabel('Distance (m)')\n",
    "\n",
    "# Add the legend\n",
    "handles = [plt.Rectangle((0,0),1,1, color=colors[label]) for label in df_time.columns]\n",
    "ax.legend(handles, df_time.columns, loc='upper right')\n",
    "\n",
    "# Remove all spines\n",
    "for spine in ax.spines.values():\n",
    "    spine.set_visible(False)\n",
    "\n",
    "# Remove ticks from top and right spines\n",
    "ax.tick_params(top=False, right=False)\n",
    "\n",
    "# Show the chart\n",
    "plt.show()\n"
   ]
  },
  {
   "attachments": {},
   "cell_type": "markdown",
   "metadata": {},
   "source": [
    "### 🔍  Afternoon hours: casual riders covered 49% of the total distance while members covered 51%.\n",
    "\n",
    "### 🔍  Evening hours: casual riders covered 50% of the total distance while members covered 50%.\n",
    "\n",
    "### 🔍  Morning hours: casual riders covered 35% of the total distance while members covered 65%.\n",
    "\n",
    "### 🔍  Night hours: casual riders covered 57% of the total distance while members only covered 43%."
   ]
  },
  {
   "cell_type": "code",
   "execution_count": 224,
   "metadata": {},
   "outputs": [
    {
     "name": "stdout",
     "output_type": "stream",
     "text": [
      "start_hour\n",
      "0     125898.245980\n",
      "1      89761.269976\n",
      "2      56209.426053\n",
      "3      29866.899127\n",
      "4      25069.583162\n",
      "5      67129.600043\n",
      "6     182366.037539\n",
      "7     335387.387766\n",
      "8     387244.515608\n",
      "9     320224.234375\n",
      "10    364759.174180\n",
      "11    459464.226831\n",
      "12    533522.320935\n",
      "13    551982.029981\n",
      "14    562019.246086\n",
      "15    627894.900522\n",
      "16    772477.220966\n",
      "17    952912.696482\n",
      "18    795380.249945\n",
      "19    559228.739743\n",
      "20    377479.371893\n",
      "21    299538.299459\n",
      "22    260167.286976\n",
      "23    188279.459083\n",
      "Name: distance, dtype: float64\n"
     ]
    }
   ],
   "source": [
    "hour_distance = df_sample.groupby(['start_hour'])['distance'].sum()\n",
    "print(hour_distance)\n"
   ]
  },
  {
   "cell_type": "code",
   "execution_count": 121,
   "metadata": {},
   "outputs": [
    {
     "name": "stdout",
     "output_type": "stream",
     "text": [
      "start_hour  member_casual\n",
      "12          member           265162.322191\n",
      "13          casual           285595.619092\n",
      "            member           266386.410890\n",
      "14          casual           290754.264151\n",
      "            member           271264.981935\n",
      "15          casual           305580.975666\n",
      "            member           322313.924856\n",
      "16          casual           340033.906116\n",
      "            member           432443.314850\n",
      "17          casual           401589.291080\n",
      "            member           551323.405402\n",
      "18          casual           350220.966995\n",
      "            member           445159.282950\n",
      "19          casual           254784.403772\n",
      "            member           304444.335971\n",
      "20          casual           178256.658764\n",
      "            member           199222.713129\n",
      "21          casual           151403.874102\n",
      "            member           148134.425357\n",
      "22          casual           143423.313776\n",
      "            member           116743.973200\n",
      "23          casual           109536.967520\n",
      "            member            78742.491562\n",
      "Name: distance, dtype: float64\n"
     ]
    }
   ],
   "source": [
    "hour_distance = df_sample.groupby(['start_hour', 'member_casual'])['distance'].sum()\n",
    "print(hour_distance.tail(23))\n"
   ]
  },
  {
   "cell_type": "code",
   "execution_count": 119,
   "metadata": {},
   "outputs": [
    {
     "data": {
      "image/png": "[encoded data removed]",
      "text/plain": [
       "<Figure size 720x432 with 1 Axes>"
      ]
     },
     "metadata": {
      "needs_background": "light"
     },
     "output_type": "display_data"
    }
   ],
   "source": [
    "# Group the data by user type and time of day and calculate the mean hire duration\n",
    "hour_distance = df_sample.groupby(['member_casual', 'start_hour'])['distance'].sum()\n",
    "\n",
    "# Pivot the data to create separate columns for casual and member riders\n",
    "df_pivot = hour_distance.unstack(level=0)\n",
    "\n",
    "# Create the line chart with markers\n",
    "fig, ax = plt.subplots(figsize=(10, 6))\n",
    "ax.plot(df_pivot['casual'], label='Casual', marker='o')\n",
    "ax.plot(df_pivot['member'], label='Member', marker='s')\n",
    "\n",
    "# Set tick values and labels for the x-axis\n",
    "ax.set_xticks(range(0, 24, 2))\n",
    "ax.set_xticklabels([f'{hour}:00' for hour in range(0, 24, 2)])\n",
    "\n",
    "# Add labels and title\n",
    "ax.set_xlabel('Start Hour')\n",
    "ax.set_ylabel('Average Hire Duration (minutes)')\n",
    "ax.set_title('Average Hire Duration by Time of Day and User Type')\n",
    "\n",
    "# Remove all spines\n",
    "for spine in ax.spines.values():\n",
    "    spine.set_visible(False)\n",
    "\n",
    "# Remove ticks from top and right spines\n",
    "ax.tick_params(top=False, right=False)\n",
    "\n",
    "# Add legend\n",
    "ax.legend()\n",
    "\n",
    "# Show the chart\n",
    "plt.show()\n",
    "\n"
   ]
  },
  {
   "attachments": {},
   "cell_type": "markdown",
   "metadata": {},
   "source": [
    "### 🔍 For casual users, the distance traveled gradually increases from midnight to 8 AM and then experiences a sharp increase during the morning peak hours from 8 AM to 10 AM. After that, it remains high until 5 PM and gradually decreases afterward."
   ]
  },
  {
   "attachments": {},
   "cell_type": "markdown",
   "metadata": {},
   "source": [
    "# Solutions:\n",
    "## 🎯 Spring Season: \n",
    "### Convert Casuals to Annual Members with Targeted Incentives and Cost-Saving Communication Casuals have a longer average hire time in all seasons, however, in the Spring season casuals had a significantly longer ride time of 16.3 More Minutes compared to annual members. This can be a potential opportunity for the marketing team to convert casual riders into annual members. They could offer a discount or other incentives to casual riders who sign up for an annual membership during the Spring season. This could be particularly effective if The Marketing Team can communicate the potential cost savings to casual riders by becoming an annual member since casual riders tend to have longer ride times and therefore may benefit more from an annual membership than they realize.\n",
    "\n",
    ".\n",
    "\n",
    "## 🎯 Develop marketing campaigns specifically targeting casual riders during the month of May:\n",
    "### Casuals have their most extended average hire times in May. I recommend offering promotions or incentives that encourage riders to rent bikes more frequently during this period, with the aim of increasing the number of annual memberships over time. The marketing team can highlight the benefits of an annual membership to casual riders, such as exclusive access to events or preferred bike availability. By emphasizing these benefits, casual riders may be more likely to see the value in becoming an annual member. Offering a free trial period for casual riders to experience the benefits of an annual membership. This will allow casual riders to try out the service before committing to a full annual membership. By experiencing the convenience and benefits of being an annual member, casual riders may be more likely to convert to an annual membership.\n",
    "\n",
    "## 🎯 Sunday: Boosting Annual Memberships through Strategic Promotions and Community Collaborations\n",
    "### Sunday mornings are the busiest time for casual riders with an average hire time of 32.01 minutes, followed by Sunday afternoons with an average hire time of 31.92 minutes. To convert casual riders to annual members during Sunday mornings and afternoons, the marketing team could consider offering a promotional discount for annual memberships during these peak times. This could be communicated through targeted email campaigns, social media posts, or in-app notifications.\n",
    "\n",
    "### Casuals used Streeter Dr &Grand Ave as their destination and starting point as their Preferable route with 11652 trips. To attract Casuals to our annual services, Cyclists can partner with local businesses such as gyms and restaurants, and offer discounts on their purchases and other special perks during these hours, thereby creating a sense of belonging and care for our clients.\n",
    "\n",
    "# 📌 Conclusion:\n",
    "## The data analysis showed that casual riders and annual members use Cyclistic bikes differently, with casual riders renting bikes for longer durations on weekends and annual members using them primarily during weekdays. To increase annual memberships, Cyclistic should focus on targeting casual riders with tailored promotions and incentives. The marketing team can use data on the most popular hiring times to craft targeted marketing campaigns that speak directly to casual riders.\n",
    "\n",
    "\n",
    "\n"
   ]
  },
  {
   "attachments": {},
   "cell_type": "markdown",
   "metadata": {},
   "source": [
    "                                                                                            *END*"
   ]
  }
 ],
 "metadata": {
  "interpreter": {
   "hash": "227c5361c5212d4ae6df7987c9463acdbfd860dee915845f0a8ff1cf6786cb16"
  },
  "kernelspec": {
   "display_name": "Python 3.9.5",
   "language": "python",
   "name": "python3"
  },
  "language_info": {
   "codemirror_mode": {
    "name": "ipython",
    "version": 3
   },
   "file_extension": ".py",
   "mimetype": "text/x-python",
   "name": "python",
   "nbconvert_exporter": "python",
   "pygments_lexer": "ipython3",
   "version": "3.9.5"
  },
  "orig_nbformat": 4
 },
 "nbformat": 4,
 "nbformat_minor": 2
}
